{
 "cells": [
  {
   "cell_type": "markdown",
   "id": "30317d29-9d16-418d-92f6-4cf214f42b8e",
   "metadata": {},
   "source": [
    "# Jupyter中的额外配置\n",
    "\n",
    "我们依然可以使用Jupyter来作为交互界面在esp32或者esp8266中调试micropython.使用的核心程序是[jupyter_micropython_kernel](https://github.com/goatchurchprime/jupyter_micropython_kernel).使用`pip install jupyter_micropython_kernel`安装核心程序,然后使用`python -m jupyter_micropython_kernel.install`安装核心."
   ]
  },
  {
   "cell_type": "markdown",
   "id": "1faee683-989c-4e02-b36e-ab2840fa242d",
   "metadata": {},
   "source": [
    "## 在notebook中查看设备\n",
    "\n",
    "在mac下我们可以直接使用"
   ]
  },
  {
   "cell_type": "code",
   "execution_count": 1,
   "id": "fd21bc7b-9749-41be-adaf-59e150143e81",
   "metadata": {},
   "outputs": [
    {
     "name": "stdout",
     "output_type": "stream",
     "text": [
      "\u001b[34m\u001b[43m/dev/cu.Bluetooth-Incoming-Port\u001b[m\u001b[m \u001b[34m\u001b[43m/dev/cu.usbserial-1130\u001b[m\u001b[m\n"
     ]
    }
   ],
   "source": [
    "!ls /dev/cu.*"
   ]
  },
  {
   "cell_type": "markdown",
   "id": "ded29298-8daf-43b2-ac76-64f7554ac291",
   "metadata": {},
   "source": [
    "## 链接到设备\n",
    "\n",
    "`jupyter_micropython_kernel`提供了魔法命令`serialconnect`来让我们可以连接到esp32或者esp8266."
   ]
  },
  {
   "cell_type": "code",
   "execution_count": 1,
   "id": "d9c53e91-b3ed-4475-bfaa-db5630bc439b",
   "metadata": {},
   "outputs": [
    {
     "name": "stdout",
     "output_type": "stream",
     "text": [
      "\u001b[34mConnecting to --port=/dev/cu.usbserial-1130 --baud=115200 \u001b[0m\n",
      "\u001b[34mReady.\n",
      "\u001b[0m"
     ]
    }
   ],
   "source": [
    "%serialconnect --port=/dev/cu.usbserial-1130"
   ]
  },
  {
   "cell_type": "markdown",
   "id": "76d4f308-1bc1-4a02-82d0-0e4072d9cb4e",
   "metadata": {},
   "source": [
    "然后就可以正常使用python调试设备了"
   ]
  },
  {
   "cell_type": "code",
   "execution_count": 5,
   "id": "e93be8e6-7e0f-400b-899f-07eeb39d6a27",
   "metadata": {},
   "outputs": [],
   "source": [
    "import time\n",
    "from machine import Pin\n",
    "\n",
    "p23 = Pin(23, Pin.OUT)    # create output pin on GPIO0\n",
    "\n",
    "p23.on()                 # set pin to \"on\" (high) level\n",
    "time.sleep(1)\n",
    "p23.off()                # set pin to \"off\" (low) level"
   ]
  },
  {
   "cell_type": "code",
   "execution_count": null,
   "id": "7f821ccf-e193-4c72-b82e-e09fe3a5483e",
   "metadata": {},
   "outputs": [],
   "source": []
  }
 ],
 "metadata": {
  "kernelspec": {
   "display_name": "MicroPython - USB",
   "language": "micropython",
   "name": "micropython"
  },
  "language_info": {
   "codemirror_mode": "python",
   "file_extension": ".py",
   "mimetype": "text/python",
   "name": "micropython"
  }
 },
 "nbformat": 4,
 "nbformat_minor": 5
}
